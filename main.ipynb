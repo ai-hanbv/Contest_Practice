{
 "cells": [
  {
   "cell_type": "code",
   "execution_count": 1,
   "metadata": {},
   "outputs": [],
   "source": [
    "from langchain_ollama import OllamaLLM\n",
    "from langchain_ollama import embeddings\n",
    "from langchain_core.prompts import ChatPromptTemplate\n",
    "\n",
    "llm = OllamaLLM(model=\"qwen2.5\")\n",
    "\n",
    "template = \"{question}에 대해 알려줘\"\n",
    "prompt = ChatPromptTemplate.from_template(template=template)\n",
    "\n",
    "chain = prompt | llm\n",
    "\n"
   ]
  },
  {
   "cell_type": "code",
   "execution_count": 3,
   "metadata": {},
   "outputs": [
    {
     "name": "stdout",
     "output_type": "stream",
     "text": [
      "코끼리는 거대한 동물로서 많은 사람들이 흥미를 느낄 만한 주제입니다. 다음은 코끼리를 설명하기 위해 제공할 수 있는 몇 가지 중요한 정보들입니다:\n",
      "\n",
      "1. 종류:\n",
      "- 아프리카 코끼리: 큰 무리로 사는 2종이 있습니다 (가장자리와 라피니).\n",
      "- 아시아 코끼리: 단독으로 생활하거나 작은 그룹을 이루며, 현재 3개의 종이 있습니다.\n",
      "\n",
      "2. 외모:\n",
      "코끼리는 매우 크고 거칠게 보입니다. 몸길이는 약 4~7m이며 무게는 평균 4000kg에서 6000kg까지 범위가 있습니다.\n",
      "\n",
      "3. 특징:\n",
      "- 두 가지 큰 귀와, 대형의 뿔은 아프리카 코끼리에만 있고 아시아 코끼리는 두개의 작은 뿔 또는 없음.\n",
      "- 매우 긴 가슴과 짧고 굵은 다리를 가지고 있습니다.\n",
      "\n",
      "4. 행동:\n",
      "코끼리는 사회적인 동물로, 특히 아프리카 코끼리는 큰 무리에서 사는 경향이 큽니다. \n",
      "\n",
      "5. 식성: \n",
      "전혀 다른 두 가지 종류의 코끼리 중에는 아시아 코끼리가 주로 초지식이며 아프리카 코끼리가 대나무, 나뭇가지를 먹습니다.\n",
      "\n",
      "6. 보호상태:\n",
      "코끼리는 멸종 위기 동물이므로 국제적으로 보호를 받고 있습니다. 하지만 여전히 포획과 무단 잔해집합으로 인한 위험이 존재합니다.\n",
      "\n",
      "위의 정보는 코끼리에 대한 기본적인 개요이며, 더 깊은 연구와 탐구가 필요할 경우 추가 자료를 찾아보시길 권장드립니다.\n"
     ]
    }
   ],
   "source": [
    "res = chain.invoke(\"코끼리\")\n",
    "print(res)"
   ]
  }
 ],
 "metadata": {
  "kernelspec": {
   "display_name": "rag-study-t1awnzZo-py3.12",
   "language": "python",
   "name": "python3"
  },
  "language_info": {
   "codemirror_mode": {
    "name": "ipython",
    "version": 3
   },
   "file_extension": ".py",
   "mimetype": "text/x-python",
   "name": "python",
   "nbconvert_exporter": "python",
   "pygments_lexer": "ipython3",
   "version": "3.12.3"
  }
 },
 "nbformat": 4,
 "nbformat_minor": 2
}
